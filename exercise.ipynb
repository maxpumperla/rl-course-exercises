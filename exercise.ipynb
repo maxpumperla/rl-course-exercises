{
 "cells": [
  {
   "cell_type": "markdown",
   "id": "7e85d642",
   "metadata": {},
   "source": [
    "# Creating an Example\n",
    "\n",
    "\n",
    "## Adding code cells"
   ]
  },
  {
   "cell_type": "code",
   "execution_count": null,
   "id": "5e2dab38",
   "metadata": {},
   "outputs": [],
   "source": [
    "import ray"
   ]
  },
  {
   "cell_type": "markdown",
   "id": "0786a0f3",
   "metadata": {},
   "source": [
    "## Hiding and removing cells"
   ]
  },
  {
   "cell_type": "code",
   "execution_count": null,
   "id": "343228f9",
   "metadata": {
    "tags": [
     "hide-cell"
    ]
   },
   "outputs": [],
   "source": [
    "# This can be useful if you don't want to clutter the page with details.\n",
    "\n",
    "import ray\n",
    "import ray.rllib.agents.ppo as ppo\n",
    "from ray import serve"
   ]
  }
 ],
 "metadata": {
  "kernelspec": {
   "display_name": "Python 3",
   "language": "python",
   "name": "python3"
  }
 },
 "nbformat": 4,
 "nbformat_minor": 5
}
